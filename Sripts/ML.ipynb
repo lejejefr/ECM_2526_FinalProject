{
  "nbformat": 4,
  "nbformat_minor": 0,
  "metadata": {
    "colab": {
      "provenance": [],
      "authorship_tag": "ABX9TyP3Ofsm2FRgHw/nA8kV7u34",
      "include_colab_link": true
    },
    "kernelspec": {
      "name": "python3",
      "display_name": "Python 3"
    },
    "language_info": {
      "name": "python"
    }
  },
  "cells": [
    {
      "cell_type": "markdown",
      "metadata": {
        "id": "view-in-github",
        "colab_type": "text"
      },
      "source": [
        "<a href=\"https://colab.research.google.com/github/lejejefr/ECM_2526_FinalProject/blob/main/Sripts/ML.ipynb\" target=\"_parent\"><img src=\"https://colab.research.google.com/assets/colab-badge.svg\" alt=\"Open In Colab\"/></a>"
      ]
    },
    {
      "cell_type": "code",
      "execution_count": null,
      "metadata": {
        "id": "6lprhCZz1lJR"
      },
      "outputs": [],
      "source": [
        "#ce script sert à entrainer notre modèle et à l'utiliser s'il est déjà entrainé"
      ]
    }
  ]
}