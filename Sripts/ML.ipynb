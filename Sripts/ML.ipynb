{
  "nbformat": 4,
  "nbformat_minor": 0,
  "metadata": {
    "colab": {
      "provenance": [],
      "authorship_tag": "ABX9TyMsFV2wqwhmzza8dsgL+58W",
      "include_colab_link": true
    },
    "kernelspec": {
      "name": "python3",
      "display_name": "Python 3"
    },
    "language_info": {
      "name": "python"
    }
  },
  "cells": [
    {
      "cell_type": "markdown",
      "metadata": {
        "id": "view-in-github",
        "colab_type": "text"
      },
      "source": [
        "<a href=\"https://colab.research.google.com/github/lejejefr/ECM_2526_FinalProject/blob/main/Sripts/ML.ipynb\" target=\"_parent\"><img src=\"https://colab.research.google.com/assets/colab-badge.svg\" alt=\"Open In Colab\"/></a>"
      ]
    },
    {
      "cell_type": "code",
      "execution_count": 1,
      "metadata": {
        "id": "6lprhCZz1lJR"
      },
      "outputs": [],
      "source": [
        "#ce script sert à entrainer notre modèle et à l'utiliser s'il est déjà entrainé\n",
        "import pandas as pd\n",
        "import numpy as np"
      ]
    },
    {
      "cell_type": "code",
      "source": [
        "def area(lat1, lat2, lon1, lon2, R = 6378):\n",
        "    lat1 = np.pi * lat1 / 180.0\n",
        "    lat2 = np.pi * lat2 / 180.0\n",
        "    lon1 = np.pi * lon1 / 180.0\n",
        "    lon2 = np.pi * lon2 / 180.0\n",
        "\n",
        "    h = max(np.sin(lat1), np.sin(lat2)) - min(np.sin(lat1), np.sin(lat2))\n",
        "    r = (max(lon1, lon2) - min(lon1,lon2)) / (2 * np.pi)\n",
        "\n",
        "    return 2 * np.pi * (R ** 2) * h * r\n",
        "\n",
        "print(area(36.619446,42.022548,-91.686566,-87.525759))"
      ],
      "metadata": {
        "colab": {
          "base_uri": "https://localhost:8080/"
        },
        "id": "CDhnq1959uM5",
        "outputId": "83853b41-c698-4b42-cf30-54d2ad17c693"
      },
      "execution_count": 14,
      "outputs": [
        {
          "output_type": "stream",
          "name": "stdout",
          "text": [
            "215429.1889977955\n"
          ]
        }
      ]
    }
  ]
}