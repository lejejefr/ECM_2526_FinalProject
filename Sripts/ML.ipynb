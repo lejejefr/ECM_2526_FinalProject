{
  "nbformat": 4,
  "nbformat_minor": 0,
  "metadata": {
    "colab": {
      "provenance": [],
      "authorship_tag": "ABX9TyNH2qGt90tt/OsCDdY8bwO0",
      "include_colab_link": true
    },
    "kernelspec": {
      "name": "python3",
      "display_name": "Python 3"
    },
    "language_info": {
      "name": "python"
    }
  },
  "cells": [
    {
      "cell_type": "markdown",
      "metadata": {
        "id": "view-in-github",
        "colab_type": "text"
      },
      "source": [
        "<a href=\"https://colab.research.google.com/github/lejejefr/ECM_2526_FinalProject/blob/main/Sripts/ML.ipynb\" target=\"_parent\"><img src=\"https://colab.research.google.com/assets/colab-badge.svg\" alt=\"Open In Colab\"/></a>"
      ]
    },
    {
      "cell_type": "code",
      "execution_count": 1,
      "metadata": {
        "id": "6lprhCZz1lJR"
      },
      "outputs": [],
      "source": [
        "#ce script sert à entrainer notre modèle et à l'utiliser s'il est déjà entrainé\n",
        "import pandas as pd\n",
        "import numpy as np"
      ]
    },
    {
      "cell_type": "code",
      "source": [
        "def area(lat1, lat2, lon1, lon2, R):\n",
        "    lat1 = np.pi * lat1 / 180.0\n",
        "    lat2 = np.pi * lat2 / 180.0\n",
        "    lon1 = np.pi * lon1 / 180.0\n",
        "    lon2 = np.pi * lon2 / 180.0\n",
        "\n",
        "    h = max(np.sin(lat1), np.sin(lat2)) - min(np.sin(lat1), np.sin(lat2))\n",
        "    r = (max(lon1, lon2) - min(lon1,lon2)) / (2 * np.pi)\n",
        "\n",
        "    return 2 * np.pi * (R ** 2) * h * r\n",
        "\n",
        "print(area(0,90,0,180,1))\n",
        "print(np.pi)"
      ],
      "metadata": {
        "id": "CDhnq1959uM5",
        "outputId": "00c8f858-5012-4265-ef42-3f90f38a5624",
        "colab": {
          "base_uri": "https://localhost:8080/"
        }
      },
      "execution_count": 12,
      "outputs": [
        {
          "output_type": "stream",
          "name": "stdout",
          "text": [
            "3.141592653589793\n",
            "3.141592653589793\n"
          ]
        }
      ]
    }
  ]
}