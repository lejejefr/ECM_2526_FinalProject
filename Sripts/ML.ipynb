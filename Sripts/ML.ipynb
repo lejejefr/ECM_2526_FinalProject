{
  "nbformat": 4,
  "nbformat_minor": 0,
  "metadata": {
    "colab": {
      "provenance": [],
      "authorship_tag": "ABX9TyNG6O1sHxdXYyUgVGnzS9D4",
      "include_colab_link": true
    },
    "kernelspec": {
      "name": "python3",
      "display_name": "Python 3"
    },
    "language_info": {
      "name": "python"
    }
  },
  "cells": [
    {
      "cell_type": "markdown",
      "metadata": {
        "id": "view-in-github",
        "colab_type": "text"
      },
      "source": [
        "<a href=\"https://colab.research.google.com/github/lejejefr/ECM_2526_FinalProject/blob/main/Sripts/ML.ipynb\" target=\"_parent\"><img src=\"https://colab.research.google.com/assets/colab-badge.svg\" alt=\"Open In Colab\"/></a>"
      ]
    },
    {
      "cell_type": "code",
      "execution_count": 1,
      "metadata": {
        "id": "6lprhCZz1lJR"
      },
      "outputs": [],
      "source": [
        "#ce script sert à entrainer notre modèle et à l'utiliser s'il est déjà entrainé\n",
        "import pandas as pd\n",
        "import numpy as np"
      ]
    },
    {
      "cell_type": "code",
      "source": [
        "# cette fonction calcule l'aire d'une zone rectangulaire en fonction des coordonnées des bords\n",
        "\n",
        "def area(lat1, lat2, lon1, lon2, R = 6378):\n",
        "    lat1 = np.pi * lat1 / 180.0\n",
        "    lat2 = np.pi * lat2 / 180.0\n",
        "    lon1 = np.pi * lon1 / 180.0\n",
        "    lon2 = np.pi * lon2 / 180.0\n",
        "\n",
        "    h = max(np.sin(lat1), np.sin(lat2)) - min(np.sin(lat1), np.sin(lat2))\n",
        "    r = (max(lon1, lon2) - min(lon1,lon2)) / (2 * np.pi)\n",
        "\n",
        "    return 2 * np.pi * (R ** 2) * h * r\n",
        "\n",
        "print(area(41.644818,42.022548,-87.904123,-87.525759))\n",
        "#-->le rectangle couvert par les données est de 1319.5307651175892km2, soit environ 2 fois l'air de chicago. Si on regarde une carte de la ville, on voit que le plus petit\n",
        "#rectangle contenant la ville peut la contenir à peu près 2 fois, donc a priori la fonction calculant l'aire en fonction des coordonnées fonctionne bien."
      ],
      "metadata": {
        "colab": {
          "base_uri": "https://localhost:8080/"
        },
        "id": "CDhnq1959uM5",
        "outputId": "d1ba7833-8b51-408d-b1f5-36f19c6c2588"
      },
      "execution_count": 2,
      "outputs": [
        {
          "output_type": "stream",
          "name": "stdout",
          "text": [
            "1319.5307651175892\n"
          ]
        }
      ]
    }
  ]
}